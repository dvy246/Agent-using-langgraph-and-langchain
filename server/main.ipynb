{
 "cells": [
  {
   "cell_type": "code",
   "execution_count": 138,
   "id": "9fdb7352",
   "metadata": {},
   "outputs": [
    {
     "data": {
      "text/plain": [
       "True"
      ]
     },
     "execution_count": 138,
     "metadata": {},
     "output_type": "execute_result"
    }
   ],
   "source": [
    "from langchain_groq import ChatGroq\n",
    "from langgraph.graph import StateGraph, START, END\n",
    "from langsmith import traceable\n",
    "from langchain_community.tools.tavily_search import TavilySearchResults\n",
    "from typing import Annotated,TypedDict,Literal,Dict,List,Any\n",
    "from pydantic import BaseModel,Field\n",
    "from langchain_core.messages import SystemMessage, HumanMessage, AIMessage,BaseMessage\n",
    "from dotenv import load_dotenv\n",
    "from langgraph.graph.message import add_messages\n",
    "from langgraph.prebuilt import create_react_agent,tools_condition,ToolNode\n",
    "from langchain_core.tools import tool\n",
    "from langgraph_supervisor import create_supervisor,create_handoff_tool\n",
    "from datetime import datetime,timedelta\n",
    "from sec_api import QueryApi\n",
    "from sec_edgar_api import EdgarClient\n",
    "import os\n",
    "import sqlite3\n",
    "import requests\n",
    "load_dotenv()\n"
   ]
  },
  {
   "cell_type": "code",
   "execution_count": 110,
   "id": "11f83d9a",
   "metadata": {},
   "outputs": [],
   "source": [
    "model=ChatGroq(api_key=os.getenv(\"GROQ\"),model=\"llama3-8b-8192\")"
   ]
  },
  {
   "cell_type": "code",
   "execution_count": 111,
   "id": "9a82f3ad",
   "metadata": {},
   "outputs": [],
   "source": [
    "\n",
    "class Sentiment(BaseModel):\n",
    "    sentiment:Literal['positive','negative','neutral']=Field(...,description=\"you need to classify the sentiment of the message based on the analysis\")\n",
    "    reason:str =Field(...,description=\"you need to give the reason for the sentiment classification\")\n",
    "    overall_factors:Dict[str,str]=Field(...,description=\"Factors influencing the sentiment in which the key is sentiment and reason is the value\")"
   ]
  },
  {
   "cell_type": "code",
   "execution_count": 112,
   "id": "2d894443",
   "metadata": {},
   "outputs": [],
   "source": [
    "class reason_setiment(BaseModel):\n",
    "    overall_sentiment:Literal['positive','negative','neutral']=Field(...,description=\"you need to classify the sentiment of the message based on the analysis\")\n",
    "    analysis: Annotated[List[Point], Field(min_items=1, description=\"List of bullet points explaining the sentiment classification.\")] \n"
   ]
  },
  {
   "cell_type": "code",
   "execution_count": 113,
   "id": "b77cda7c",
   "metadata": {},
   "outputs": [],
   "source": [
    "model2_wstr_output=model.with_structured_output(reason_setiment)"
   ]
  },
  {
   "cell_type": "code",
   "execution_count": 114,
   "id": "eed832fc",
   "metadata": {},
   "outputs": [],
   "source": [
    "model_with_structure=model.with_structured_output(Sentiment)"
   ]
  },
  {
   "cell_type": "code",
   "execution_count": 115,
   "id": "896aa19d",
   "metadata": {},
   "outputs": [],
   "source": [
    "class StockAgent(TypedDict):\n",
    "    ticker:str\n",
    "    message:Annotated[list,add_messages]"
   ]
  },
  {
   "cell_type": "code",
   "execution_count": 122,
   "id": "b896b063",
   "metadata": {},
   "outputs": [],
   "source": [
    "def search_web(query:str):\n",
    "   ''' Searches the web for the given query and returns the top 10 results '''\n",
    "   tavily=TavilySearchResults(max_results=20,api_key=os.getenv('TAVILY_API_KEY'))\n",
    "   return tavily.invoke(query)\n"
   ]
  },
  {
   "cell_type": "code",
   "execution_count": 133,
   "id": "982746c5",
   "metadata": {},
   "outputs": [],
   "source": [
    "import os\n",
    "from sec_api import QueryApi # Changed from EdgarClient\n",
    "from bs4 import BeautifulSoup\n",
    "import requests # Added import\n",
    "\n",
    "# IMPORTANT: The SEC API requires you to set a User-Agent.\n",
    "# Replace 'Your Name' and 'your.email@example.com' with your actual info.\n",
    "os.environ['EDGAR_USER_AGENT'] = 'Divy yadavdipu296@gmail.com'\n",
    "@tool(description=\"Fetches the full text of the most recent 10-K filing for a given company ticker using sec_api.QueryApi.\")\n",
    "def get_latest_10k_filing(ticker: str) -> str:\n",
    "    \"\"\"\n",
    "    Fetches the full text of the most recent 10-K filing for a given company ticker using sec_api.QueryApi.\n",
    "\n",
    "    Args:\n",
    "        ticker: The company's stock ticker (e.g., \"TSLA\").\n",
    "\n",
    "    Returns:\n",
    "        The plain text content of the 10-K filing's primary document.\n",
    "        Returns an error message if the filing cannot be fetched.\n",
    "    \"\"\"\n",
    "    print(f\"---  SEC TOOL: Fetching latest 10-K for {ticker} ---\")\n",
    "    try:\n",
    "        # Initialize QueryApi with your SEC API key\n",
    "        query_api = QueryApi(api_key=os.getenv('SEC_API_KEY')) # Assumes SEC_API_KEY in .env\n",
    "\n",
    "        # Query for the latest 10-K filing for the ticker\n",
    "        query = {\n",
    "        \"query\": {\"query_string\": {\"query\": f'ticker:{ticker} AND formType:\"10-K\"'}},\n",
    "        \"from\": 0,\n",
    "        \"size\": 1,\n",
    "        \"sort\": [{\"filedAt\": {\"order\": \"desc\"}}],\n",
    "    }\n",
    "        response = query_api.get_filings(query=query)\n",
    "        \n",
    "        if not response or not response.get(\"filings\"):\n",
    "            return f\"Error: No 10-K filings found for ticker {ticker}.\"\n",
    "\n",
    "        # Get the URL of the primary document from the latest filing\n",
    "        filing_url = response[\"filings\"][0].get(\"linkToHtml\")\n",
    "        \n",
    "        if not filing_url:\n",
    "            return f\"Error: Could not find a filing URL for {ticker}.\"\n",
    "\n",
    "        # Fetch the content of the filing URL using requests\n",
    "        filing_html = requests.get(filing_url, headers={'User-Agent': os.getenv('EDGAR_USER_AGENT')}).text\n",
    "\n",
    "        # Use BeautifulSoup to parse the HTML and extract all text\n",
    "        soup = BeautifulSoup(filing_html, 'html.parser')\n",
    "        plain_text = soup.get_text(separator='\\n', strip=True)\n",
    "\n",
    "        print(f\"--- SEC TOOL: Successfully fetched and parsed 10-K for {ticker}. ---\")\n",
    "        return plain_text\n",
    "\n",
    "    except Exception as e:\n",
    "        return f\"An error occurred while fetching the SEC data: {e}\""
   ]
  },
  {
   "cell_type": "code",
   "execution_count": 139,
   "id": "0a99fd1b",
   "metadata": {},
   "outputs": [],
   "source": [
    "@tool(description=\"Searches the web for the the ticker and gives the result sentiment with analysis\")\n",
    "def analyze_news_sentiment(ticker:str,days_back:int=30)-> Dict[str, Any]:\n",
    "                    \"\"\"\n",
    "                    Analyzes recent news sentiment for a given company ticker over a specified period.\n",
    "                    \n",
    "                    Args:\n",
    "                        ticker: The company's stock ticker (e.g., \"TSLA\").\n",
    "                        days_back: Number of days to look back for news articles (default: 30).\n",
    "                        \n",
    "                    Returns:\n",
    "                        A dictionary containing news sentiment analysis.\n",
    "                    \"\"\"\n",
    "                    try:\n",
    "                        end_date=datetime.now()\n",
    "                        start_date=end_date-timedelta(days=days_back)\n",
    "                        search_query = f\"{ticker} company news from {start_date.strftime('%Y-%m-%d')} to {end_date.strftime('%Y-%m-%d')} of its performances and changes\"\n",
    "                        news_result= search_web(search_query)\n",
    "                        if not news_result:\n",
    "                            return {'error':f\" no articles found for the ticker {ticker} for the specific period\"}\n",
    "                        news_text=''\n",
    "                        for i,result in enumerate(news_result[:10],1):\n",
    "                            news_text += f\"Article {i}: {result.get('title', 'No title')}\\n\"\n",
    "                            news_text += f\"Content: {result.get('content', 'No content')[:200]}...\\n\\n\"\n",
    "                    except Exception as e:\n",
    "                        raise {'error':f\"An error occurred while fetching news articles: {e}\"}\n",
    "                    sentiment_result=model_with_structure.invoke(news_text)\n",
    "                    prompt=f\"based on the {sentiment_result} provide a summary of the news sentiment with detailed reasons from the news text\"\n",
    "                    final_sentiment_with_reason=model2_wstr_output.invoke(prompt)\n",
    "                    return final_sentiment_with_reason"
   ]
  },
  {
   "cell_type": "code",
   "execution_count": null,
   "id": "3fd9afb7",
   "metadata": {},
   "outputs": [],
   "source": [
    "tools=[get_latest_10k_filing,search_web]"
   ]
  },
  {
   "cell_type": "code",
   "execution_count": null,
   "id": "9efb23ca",
   "metadata": {},
   "outputs": [],
   "source": [
    "tool_model=model.bind_tools(tools=tools)"
   ]
  },
  {
   "cell_type": "code",
   "execution_count": null,
   "id": "86838d6d",
   "metadata": {},
   "outputs": [],
   "source": [
    "tool_node=ToolNode(tools=tools,messages_key='message')"
   ]
  },
  {
   "cell_type": "code",
   "execution_count": null,
   "id": "d8f810b1",
   "metadata": {},
   "outputs": [],
   "source": [
    "def smart_llm(state:StockAgent):\n",
    "    ticker=state['ticker']\n",
    "    llm_input = state.get('message', []) + [SystemMessage(\n",
    "        content=' u are an expert finance model'),HumanMessage(content=f\"Give me a summary of the latest 10-K filing for {ticker} and any other relevant information.\")]\n",
    "    response_message = tool_model.invoke(llm_input)\n",
    "    return {'message': [response_message]}\n",
    "\n",
    "def tool_router(state: StockAgent):\n",
    "    last_message=state['message'][-1]\n",
    "    if hasattr(last_message, 'tool_calls') and len(last_message.tool_calls) > 0:\n",
    "        return 'tool'\n",
    "    return 'end'"
   ]
  },
  {
   "cell_type": "code",
   "execution_count": null,
   "id": "ec77eb73",
   "metadata": {},
   "outputs": [],
   "source": [
    "graph=StateGraph(StockAgent)\n",
    "graph.add_node('agent',smart_llm)\n",
    "graph.add_node('tool',tool_node)\n",
    "graph.set_entry_point('agent')  \n",
    "\n",
    "graph.add_conditional_edges('agent',tool_router,{'tool':'tool','end':END})\n",
    "graph.add_edge('tool','agent')\n",
    "\n",
    "workflow=graph.compile()"
   ]
  },
  {
   "cell_type": "code",
   "execution_count": null,
   "id": "2a902909",
   "metadata": {},
   "outputs": [
    {
     "data": {
      "image/png": "[encoded data removed]",
      "text/plain": [
       "<langgraph.graph.state.CompiledStateGraph object at 0x116185de0>"
      ]
     },
     "execution_count": 12,
     "metadata": {},
     "output_type": "execute_result"
    }
   ],
   "source": [
    "workflow"
   ]
  },
  {
   "cell_type": "code",
   "execution_count": null,
   "id": "0d9d7a45",
   "metadata": {},
   "outputs": [
    {
     "name": "stdout",
     "output_type": "stream",
     "text": [
      "---  SEC TOOL: Fetching latest 10-K for MSFT ---\n",
      "--- SEC TOOL: Successfully fetched and parsed 10-K for MSFT. ---\n"
     ]
    }
   ],
   "source": [
    "initial_state={'ticker':'MSFT', 'message': []}\n",
    "\n",
    "response=workflow.invoke(initial_state)"
   ]
  },
  {
   "cell_type": "code",
   "execution_count": 137,
   "id": "467ca4e8",
   "metadata": {},
   "outputs": [
    {
     "ename": "TypeError",
     "evalue": "create_react_agent() missing 1 required positional argument: 'tools'",
     "output_type": "error",
     "traceback": [
      "\u001b[0;31m---------------------------------------------------------------------------\u001b[0m",
      "\u001b[0;31mTypeError\u001b[0m                                 Traceback (most recent call last)",
      "Cell \u001b[0;32mIn[137], line 24\u001b[0m\n\u001b[1;32m      2\u001b[0m financial_analyst \u001b[38;5;241m=\u001b[39m create_react_agent(\n\u001b[1;32m      3\u001b[0m     model\u001b[38;5;241m=\u001b[39mmodel,\n\u001b[1;32m      4\u001b[0m     tools\u001b[38;5;241m=\u001b[39m[get_latest_10k_filing],\n\u001b[0;32m   (...)\u001b[0m\n\u001b[1;32m     10\u001b[0m \u001b[38;5;124m    4. Be thorough but concise - senior analysts will review your work\u001b[39m\u001b[38;5;124m'''\u001b[39m\n\u001b[1;32m     11\u001b[0m )\n\u001b[1;32m     13\u001b[0m news_analyst \u001b[38;5;241m=\u001b[39m create_react_agent(\n\u001b[1;32m     14\u001b[0m     model\u001b[38;5;241m=\u001b[39mmodel,\n\u001b[1;32m     15\u001b[0m     tools\u001b[38;5;241m=\u001b[39m[search_web, analyze_news_sentiment],\n\u001b[0;32m   (...)\u001b[0m\n\u001b[1;32m     21\u001b[0m \u001b[38;5;124m    4. Be objective and data-driven\u001b[39m\u001b[38;5;124m'''\u001b[39m\n\u001b[1;32m     22\u001b[0m )\n\u001b[0;32m---> 24\u001b[0m technical_analyst \u001b[38;5;241m=\u001b[39m \u001b[43mcreate_react_agent\u001b[49m\u001b[43m(\u001b[49m\n\u001b[1;32m     25\u001b[0m \u001b[43m    \u001b[49m\u001b[43mmodel\u001b[49m\u001b[38;5;241;43m=\u001b[39;49m\u001b[43mmodel\u001b[49m\u001b[43m,\u001b[49m\u001b[38;5;66;43;03m# Will add yfinance tools later\u001b[39;49;00m\n\u001b[1;32m     26\u001b[0m \u001b[43m    \u001b[49m\u001b[43mname\u001b[49m\u001b[38;5;241;43m=\u001b[39;49m\u001b[38;5;124;43m'\u001b[39;49m\u001b[38;5;124;43mtechnical_analyst\u001b[39;49m\u001b[38;5;124;43m'\u001b[39;49m\u001b[43m,\u001b[49m\n\u001b[1;32m     27\u001b[0m \u001b[43m    \u001b[49m\u001b[43mprompt\u001b[49m\u001b[38;5;241;43m=\u001b[39;49m\u001b[38;5;124;43m'''\u001b[39;49m\u001b[38;5;124;43mYou are a Junior Technical Analyst. Your job is to:\u001b[39;49m\n\u001b[1;32m     28\u001b[0m \u001b[38;5;124;43m    1. Analyze stock price data and technical indicators\u001b[39;49m\n\u001b[1;32m     29\u001b[0m \u001b[38;5;124;43m    2. Identify trends, support/resistance levels, and momentum\u001b[39;49m\n\u001b[1;32m     30\u001b[0m \u001b[38;5;124;43m    3. Provide technical outlook with confidence level\u001b[39;49m\n\u001b[1;32m     31\u001b[0m \u001b[38;5;124;43m    4. Note: Currently placeholder - will add stock data tools\u001b[39;49m\u001b[38;5;124;43m'''\u001b[39;49m\n\u001b[1;32m     32\u001b[0m \u001b[43m)\u001b[49m\n\u001b[1;32m     34\u001b[0m \u001b[38;5;66;03m# 2. Senior Supervisor Agent (Portfolio Manager)\u001b[39;00m\n\u001b[1;32m     35\u001b[0m \u001b[38;5;66;03m# Create supervisor that can hand off to specialized agents\u001b[39;00m\n\u001b[1;32m     36\u001b[0m supervisor \u001b[38;5;241m=\u001b[39m create_supervisor(\n\u001b[1;32m     37\u001b[0m     model\u001b[38;5;241m=\u001b[39mmodel,\n\u001b[1;32m     38\u001b[0m     agents\u001b[38;5;241m=\u001b[39m{\n\u001b[0;32m   (...)\u001b[0m\n\u001b[1;32m     56\u001b[0m \u001b[38;5;124m    Always maintain oversight and validate junior analysts\u001b[39m\u001b[38;5;124m'\u001b[39m\u001b[38;5;124m work.\u001b[39m\u001b[38;5;124m'''\u001b[39m\n\u001b[1;32m     57\u001b[0m )\n",
      "\u001b[0;31mTypeError\u001b[0m: create_react_agent() missing 1 required positional argument: 'tools'"
     ]
    }
   ],
   "source": [
    "# 1. Junior Agents (Specialized Analysts)\n",
    "financial_analyst = create_react_agent(\n",
    "    model=model,\n",
    "    tools=[get_latest_10k_filing],\n",
    "    name='financial_analyst',\n",
    "    prompt='''You are a Junior Financial Analyst. Your job is to:\n",
    "    1. Fetch and analyze the latest 10-K filing\n",
    "    2. Extract key financial metrics, risk factors, and business insights\n",
    "    3. Provide a structured financial summary\n",
    "    4. Be thorough but concise - senior analysts will review your work'''\n",
    ")\n",
    "\n",
    "news_analyst = create_react_agent(\n",
    "    model=model,\n",
    "    tools=[search_web, analyze_news_sentiment],\n",
    "    name='news_analyst',\n",
    "    prompt='''You are a Junior News Analyst. Your job is to:\n",
    "    1. Search for recent news about the given ticker\n",
    "    2. Analyze sentiment and identify key drivers\n",
    "    3. Provide market sentiment score and news summary\n",
    "    4. Be objective and data-driven'''\n",
    ")\n",
    "\n",
    "technical_analyst = create_react_agent(\n",
    "    model=model,# Will add yfinance tools later\n",
    "    name='technical_analyst',\n",
    "    prompt='''You are a Junior Technical Analyst. Your job is to:\n",
    "    1. Analyze stock price data and technical indicators\n",
    "    2. Identify trends, support/resistance levels, and momentum\n",
    "    3. Provide technical outlook with confidence level\n",
    "    4. Note: Currently placeholder - will add stock data tools'''\n",
    ")\n",
    "\n",
    "# 2. Senior Supervisor Agent (Portfolio Manager)\n",
    "# Create supervisor that can hand off to specialized agents\n",
    "supervisor = create_supervisor(\n",
    "    model=model,\n",
    "    agents={\n",
    "        'financial_analyst': financial_analyst,\n",
    "        'news_analyst': news_analyst,\n",
    "        'technical_analyst': technical_analyst\n",
    "    },\n",
    "    prompt='''You are a Senior Investment Portfolio Manager.\n",
    "    \n",
    "    You have three junior analysts working for you:\n",
    "    1. Financial Analyst - analyzes SEC filings\n",
    "    2. News Analyst - analyzes market sentiment\n",
    "    3. Technical Analyst - analyzes stock price data\n",
    "    \n",
    "    Your workflow:\n",
    "    1. Delegate tasks to appropriate junior analysts\n",
    "    2. Review their work for quality and completeness\n",
    "    3. Synthesize findings into final investment recommendation\n",
    "    4. Ensure all analysis is thorough and professional\n",
    "    \n",
    "    Always maintain oversight and validate junior analysts' work.'''\n",
    ")\n",
    "\n",
    "# Create handoff tools for the supervisor\n",
    "handoff_tools = [\n",
    "    create_handoff_tool('financial_analyst', 'Delegate financial analysis'),\n",
    "    create_handoff_tool('news_analyst', 'Delegate news sentiment analysis'),\n",
    "    create_handoff_tool('technical_analyst', 'Delegate technical analysis')\n",
    "]\n",
    "\n",
    "# Bind tools to supervisor\n",
    "supervisor_with_tools = supervisor.bind_tools(handoff_tools)"
   ]
  },
  {
   "cell_type": "code",
   "execution_count": null,
   "id": "a12f58c0",
   "metadata": {},
   "outputs": [],
   "source": []
  }
 ],
 "metadata": {
  "kernelspec": {
   "display_name": "newenv",
   "language": "python",
   "name": "python3"
  },
  "language_info": {
   "codemirror_mode": {
    "name": "ipython",
    "version": 3
   },
   "file_extension": ".py",
   "mimetype": "text/x-python",
   "name": "python",
   "nbconvert_exporter": "python",
   "pygments_lexer": "ipython3",
   "version": "3.10.18"
  }
 },
 "nbformat": 4,
 "nbformat_minor": 5
}
